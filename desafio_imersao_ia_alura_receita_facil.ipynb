{
  "nbformat": 4,
  "nbformat_minor": 0,
  "metadata": {
    "colab": {
      "provenance": [],
      "authorship_tag": "ABX9TyMwTw8RIt2mmRLT14tgNCTR",
      "include_colab_link": true
    },
    "kernelspec": {
      "name": "python3",
      "display_name": "Python 3"
    },
    "language_info": {
      "name": "python"
    }
  },
  "cells": [
    {
      "cell_type": "markdown",
      "metadata": {
        "id": "view-in-github",
        "colab_type": "text"
      },
      "source": [
        "<a href=\"https://colab.research.google.com/github/SnapRock/desafio_imersao_ia_alura_receita_facil/blob/main/desafio_imersao_ia_alura_receita_facil.ipynb\" target=\"_parent\"><img src=\"https://colab.research.google.com/assets/colab-badge.svg\" alt=\"Open In Colab\"/></a>"
      ]
    },
    {
      "cell_type": "code",
      "source": [
        "!pip install -U -q google-generativeai"
      ],
      "metadata": {
        "id": "ockDI9Shw6FQ"
      },
      "execution_count": null,
      "outputs": []
    },
    {
      "cell_type": "code",
      "source": [
        "import numpy as np\n",
        "import google.generativeai as genai\n",
        "from google.colab import userdata"
      ],
      "metadata": {
        "id": "u-CByDMdv78V"
      },
      "execution_count": null,
      "outputs": []
    },
    {
      "cell_type": "code",
      "source": [
        "GOOGLE_API_KEY = userdata.get('GOOGLE_SECRET_KEY')\n",
        "genai.configure(api_key=GOOGLE_API_KEY)"
      ],
      "metadata": {
        "id": "RP_fI3ecw_XA"
      },
      "execution_count": null,
      "outputs": []
    },
    {
      "cell_type": "code",
      "source": [
        "# Modelo de embedding\n",
        "model = \"models/embedding-001\""
      ],
      "metadata": {
        "id": "J1pY_bPiv_UO"
      },
      "execution_count": null,
      "outputs": []
    },
    {
      "cell_type": "code",
      "source": [
        "def gerar_embedding(texto, titulo):\n",
        "    return genai.embed_content(\n",
        "        model=model,\n",
        "        content=texto,\n",
        "        task_type=\"RETRIEVAL_DOCUMENT\",\n",
        "        title=titulo\n",
        "    )[\"embedding\"]"
      ],
      "metadata": {
        "id": "gJR9fGBWwEtR"
      },
      "execution_count": null,
      "outputs": []
    },
    {
      "cell_type": "code",
      "source": [
        "def gerar_receita(titulo_receita):\n",
        "    \"\"\"Gera uma receita formal a partir do título.\"\"\"\n",
        "    prompt = f\"\"\"\n",
        "    Você é um chef experiente e criativo.\n",
        "    Crie uma receita formal e completa, com ingredientes e instruções detalhadas, para um prato chamado '{titulo_receita}'.\n",
        "\n",
        "    A receita deve incluir:\n",
        "    - Título da Receita\n",
        "    - Ingredientes: Listados em formato de marcadores, com quantidades e unidades de medida.\n",
        "    - Instruções: Numeradas sequencialmente, descrevendo cada passo da preparação de forma clara e concisa.\n",
        "\n",
        "    Seja criativo e invente uma receita deliciosa e plausível!\n",
        "    \"\"\"\n",
        "\n",
        "    model_2 = genai.GenerativeModel(\"gemini-1.0-pro\")\n",
        "    response = model_2.generate_content(prompt)\n",
        "    return response.text"
      ],
      "metadata": {
        "id": "o4DRRu4VwJB6"
      },
      "execution_count": null,
      "outputs": []
    },
    {
      "cell_type": "code",
      "source": [
        "def gerar_embedding_query(texto):\n",
        "    \"\"\"Gera o embedding de um texto usando o modelo especificado.\"\"\"\n",
        "    return genai.embed_content(\n",
        "        model=\"models/embedding-001\",\n",
        "        content=texto,\n",
        "        task_type=\"RETRIEVAL_QUERY\"\n",
        "    )[\"embedding\"]"
      ],
      "metadata": {
        "id": "kJwF0Ex3wMlz"
      },
      "execution_count": null,
      "outputs": []
    },
    {
      "cell_type": "code",
      "source": [
        "def extrair_ingredientes(receita, titulo_receita):\n",
        "    \"\"\"Extrai os ingredientes da receita usando embeddings.\"\"\"\n",
        "    embedding_receita = gerar_embedding(receita, titulo=titulo_receita)\n",
        "\n",
        "    ingredientes = []\n",
        "    for linha in receita.split('\\n'):\n",
        "        linha = linha.strip()\n",
        "        if linha: # Ignora linhas vazias\n",
        "            # Usamos o título \"Ingrediente da Receita\" para cada linha\n",
        "            embedding_linha = gerar_embedding(linha, titulo=\"Ingrediente da Receita\")\n",
        "            similaridade = np.dot(embedding_receita, embedding_linha)\n",
        "            # Ajuste o limite de similaridade conforme necessário\n",
        "            if similaridade > 0.8:\n",
        "                ingredientes.append(linha)\n",
        "    return ingredientes"
      ],
      "metadata": {
        "id": "kWGPM_5CwPld"
      },
      "execution_count": null,
      "outputs": []
    },
    {
      "cell_type": "code",
      "source": [
        "def gerar_lista_compras(ingredientes):\n",
        "    \"\"\"Gera a lista de compras a partir dos ingredientes.\"\"\"\n",
        "    lista_compras = []\n",
        "    for ingrediente in ingredientes:\n",
        "        # Divida a linha do ingrediente em quantidade, unidade e nome\n",
        "        partes = ingrediente.split(' ')\n",
        "        quantidade = partes[0]\n",
        "        unidade = partes[1] if len(partes) > 2 else \"\"\n",
        "        nome = ' '.join(partes[2:]) if len(partes) > 2 else partes[1]\n",
        "\n",
        "        # Adiciona o ingrediente à lista de compras\n",
        "        lista_compras.append(f\"{quantidade} {unidade} {nome}\")\n",
        "\n",
        "    return lista_compras"
      ],
      "metadata": {
        "id": "vLhluPvAwSUv"
      },
      "execution_count": null,
      "outputs": []
    },
    {
      "cell_type": "code",
      "source": [
        "def formatar_lista_compras(lista_compras):\n",
        "    \"\"\"Formata a lista de compras em um formato comercialmente viável.\"\"\"\n",
        "    lista_compras_str = '\\n'.join(lista_compras)\n",
        "    return gerar_embedding_query(lista_compras_str)"
      ],
      "metadata": {
        "id": "agJmmmnEwVD6"
      },
      "execution_count": null,
      "outputs": []
    },
    {
      "cell_type": "code",
      "source": [
        "def interpretar_lista_compras(lista_compras):\n",
        "    \"\"\"Interpreta a lista de compras usando um modelo de linguagem\n",
        "       para sugerir produtos específicos e formatação comercial.\n",
        "    \"\"\"\n",
        "    prompt = f\"\"\"\n",
        "    Você é um assistente de compras experiente.\n",
        "    Com base na seguinte lista de compras, sugira produtos específicos\n",
        "    e formate a lista de forma clara e organizada para um supermercado:\n",
        "\n",
        "    {lista_compras}\n",
        "\n",
        "    Considere marcas populares, tamanhos de embalagem comuns e\n",
        "    especificações relevantes para cada item.\n",
        "    \"\"\"\n",
        "    model_2 = genai.GenerativeModel(\"gemini-1.0-pro\")\n",
        "    response = model_2.generate_content(prompt)\n",
        "    return response.text"
      ],
      "metadata": {
        "id": "v9w_vLcuwYqb"
      },
      "execution_count": null,
      "outputs": []
    },
    {
      "cell_type": "code",
      "source": [
        "if __name__ == \"__main__\":\n",
        "    titulo_receita = input(\"Qual receita você gostaria de criar hoje? \")\n",
        "    receita = gerar_receita(titulo_receita)\n",
        "    print(receita)\n",
        "\n",
        "    #Ingredientes Extraídos\n",
        "    ingredientes = extrair_ingredientes(receita, titulo_receita) # Passamos o título da receita\n",
        "\n",
        "    #Lista de Compras Bruta\n",
        "    lista_compras = gerar_lista_compras(ingredientes)\n",
        "\n",
        "    #Lista de Compras Interpretada\n",
        "    lista_compras_interpretada = interpretar_lista_compras(lista_compras)\n",
        "    print(\"\\nLista de Compras:\")\n",
        "    print(lista_compras_interpretada)\n"
      ],
      "metadata": {
        "id": "7fyRggjtqdw9"
      },
      "execution_count": null,
      "outputs": []
    }
  ]
}